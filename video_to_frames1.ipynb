{
 "cells": [
  {
   "cell_type": "code",
   "execution_count": null,
   "metadata": {},
   "outputs": [],
   "source": [
    "import cv2\n",
    "import os\n",
    "os.mkdir('/mnt/DATA/Ankita/spc24/V2_Frames/')\n",
    "# Converting videos to frames\n",
    "cap= cv2.VideoCapture('/mnt/DATA/Ankita/spc24/v2.mp4')  # cv2.VideoCapture(video path)\n",
    "i=0\n",
    "while(cap.isOpened()):\n",
    "    ret, frame = cap.read()\n",
    "    if ret == False:\n",
    "        break\n",
    "    cv2.imwrite('/mnt/DATA/Ankita/spc24/V2_Frames/'+str(i+1).zfill(8)+'.jpg', frame)   #cv2.imwrite(path to where frames to be saved,frame)\n",
    "    i+=1\n",
    "cap.release()\n",
    "cv2.destroyAllWindows()"
   ]
  }
 ],
 "metadata": {
  "kernelspec": {
   "display_name": "yolo2024",
   "language": "python",
   "name": "python3"
  },
  "language_info": {
   "codemirror_mode": {
    "name": "ipython",
    "version": 3
   },
   "file_extension": ".py",
   "mimetype": "text/x-python",
   "name": "python",
   "nbconvert_exporter": "python",
   "pygments_lexer": "ipython3",
   "version": "3.9.18"
  }
 },
 "nbformat": 4,
 "nbformat_minor": 2
}
