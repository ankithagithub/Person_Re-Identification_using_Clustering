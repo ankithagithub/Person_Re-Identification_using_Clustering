{
 "cells": [
  {
   "cell_type": "code",
   "execution_count": null,
   "metadata": {},
   "outputs": [],
   "source": [
    "from ultralytics import YOLO\n",
    "import numpy as np\n",
    "import os\n",
    "import cv2\n",
    "\n",
    "# Create a directory to store images with bounding boxes\n",
    "os.makedirs('/mnt/DATA/Ankita/spc24/frames_with_boxes_new/', exist_ok=True)\n",
    "\n",
    "# Load YOLO model\n",
    "model = YOLO('yolov8n.pt')\n",
    "\n",
    "# Path to the folder containing frames\n",
    "frames_folder = '/mnt/DATA/Ankita/spc24/V2_Frames'\n",
    "\n",
    "# Get the list of frame files\n",
    "frame_files = os.listdir(frames_folder)\n",
    "\n",
    "# Loop through each frame\n",
    "for frame_file in frame_files:\n",
    "    # Load the frame\n",
    "    source = os.path.join(frames_folder, frame_file)\n",
    "    image = cv2.imread(source)\n",
    "\n",
    "    # Perform inference\n",
    "    results = model(source, classes=0)\n",
    "\n",
    "    # Loop through each result and draw bounding box on the frame\n",
    "    for r in results:\n",
    "        for box in r.boxes.data:\n",
    "            x1, y1, x2, y2 = box[:4].tolist()  # Extract the first four elements which represent the box coordinates\n",
    "            x1, y1, x2, y2 = int(x1), int(y1), int(x2), int(y2)\n",
    "            cv2.rectangle(image, (x1, y1), (x2, y2), (0, 255, 0), 2)\n",
    "\n",
    "    # Save the image with bounding boxes\n",
    "    output_path = '/mnt/DATA/Ankita/spc24/frames_with_boxes_new' + frame_file\n",
    "    cv2.imwrite(output_path, image)\n"
   ]
  }
 ],
 "metadata": {
  "kernelspec": {
   "display_name": "Python 3",
   "language": "python",
   "name": "python3"
  },
  "language_info": {
   "codemirror_mode": {
    "name": "ipython",
    "version": 3
   },
   "file_extension": ".py",
   "mimetype": "text/x-python",
   "name": "python",
   "nbconvert_exporter": "python",
   "pygments_lexer": "ipython3",
   "version": "3.9.18"
  }
 },
 "nbformat": 4,
 "nbformat_minor": 2
}
