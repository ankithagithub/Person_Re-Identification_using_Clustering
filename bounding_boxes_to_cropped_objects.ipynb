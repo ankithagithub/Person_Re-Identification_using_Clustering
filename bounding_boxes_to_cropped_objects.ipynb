{
 "cells": [
  {
   "cell_type": "code",
   "execution_count": null,
   "metadata": {},
   "outputs": [],
   "source": [
    "from ultralytics import YOLO\n",
    "import numpy as np\n",
    "import os\n",
    "os.mkdir('/mnt/DATA/Ankita/spc24/cropped_objects_uniform-new/')\n",
    "model = YOLO('yolov8n.pt')\n",
    "V2Frameslen=len(os.listdir('/mnt/DATA/Ankita/spc24/V2_Frames/'))\n",
    "a=np.arange(1,V2Frameslen+1,1)\n",
    "count=0\n",
    "for j in range(V2Frameslen):\n",
    "    source=os.path.join('/mnt/DATA/Ankita/spc24/V2_Frames/', str(a[j]).zfill(8)+'.jpg')\n",
    "    image=cv2.imread(source)\n",
    "    results = model(source,classes=0)\n",
    "    for r in results:\n",
    "        a1=r.boxes\n",
    "    b=a1.xyxy.tolist()\n",
    "    for i in range(len(b)):\n",
    "        bbox=b[i]\n",
    "        b1=str(i)\n",
    "        print(b1)\n",
    "        x1, y1, x2, y2 = bbox\n",
    "        x1,y1,x2,y2=round(x1),round(y1),round(x2),round(y2)\n",
    "        cropped_image = image[y1:y2, x1:x2]\n",
    "        # = \"/mnt/DATAAnkita/Downloads/test/'/\n",
    "        cv2.imwrite('/mnt/DATA/Ankita/spc24/cropped_objects_uniform-new/'+str(count+1)+'.jpg', cropped_image)\n",
    "        count=count+1   "
   ]
  }
 ],
 "metadata": {
  "language_info": {
   "name": "python"
  }
 },
 "nbformat": 4,
 "nbformat_minor": 2
}
